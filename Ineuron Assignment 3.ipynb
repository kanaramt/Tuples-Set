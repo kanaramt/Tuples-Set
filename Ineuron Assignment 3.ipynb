{
 "cells": [
  {
   "cell_type": "markdown",
   "id": "513c2ac9",
   "metadata": {},
   "source": [
    "# Python Assignment 3 :- Tuples, Set\n",
    "\n",
    "Q1. Write a Python Program to implement your own myreduce() function which works exactly\n",
    "like Python's built-in function reduce()."
   ]
  },
  {
   "cell_type": "code",
   "execution_count": 1,
   "id": "daf9fb80",
   "metadata": {},
   "outputs": [
    {
     "name": "stdout",
     "output_type": "stream",
     "text": [
      "6\n"
     ]
    }
   ],
   "source": [
    "ls=[1,1,2,3]\n",
    "# myreduce() multiplies all the integers from the list.\n",
    "def myreduce():\n",
    "    j=0\n",
    "    y=1\n",
    "    while j<len(ls):\n",
    "        x=ls[j]\n",
    "        y*=x\n",
    "        s=y\n",
    "        j+=1\n",
    "    print(s)\n",
    "myreduce()"
   ]
  },
  {
   "cell_type": "markdown",
   "id": "cd401a71",
   "metadata": {},
   "source": [
    "Q2. Write a Python program to implement your own myfilter() function which works exactly\n",
    "like Python's built-in function filter()"
   ]
  },
  {
   "cell_type": "code",
   "execution_count": 2,
   "id": "a6bd0bb6",
   "metadata": {},
   "outputs": [
    {
     "name": "stdout",
     "output_type": "stream",
     "text": [
      "[2, 4, 6, 34]\n"
     ]
    }
   ],
   "source": [
    "ls=[2,3,4,5,6,34,77,89]\n",
    "ls1=[]\n",
    "def myfilter():\n",
    "    for i in ls:\n",
    "        if i%2==0:\n",
    "            ls1.append(i)\n",
    "        else:\n",
    "            pass\n",
    "        \n",
    "myfilter()\n",
    "print(ls1)"
   ]
  }
 ],
 "metadata": {
  "kernelspec": {
   "display_name": "Python 3",
   "language": "python",
   "name": "python3"
  },
  "language_info": {
   "codemirror_mode": {
    "name": "ipython",
    "version": 3
   },
   "file_extension": ".py",
   "mimetype": "text/x-python",
   "name": "python",
   "nbconvert_exporter": "python",
   "pygments_lexer": "ipython3",
   "version": "3.9.5"
  }
 },
 "nbformat": 4,
 "nbformat_minor": 5
}
