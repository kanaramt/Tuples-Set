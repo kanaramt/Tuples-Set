{
 "cells": [
  {
   "cell_type": "markdown",
   "id": "4db0f1c9",
   "metadata": {},
   "source": [
    "# Python Assignment 3 :- Tuples, Set\n",
    "\n",
    "Q1.1 Write a Python Program to implement your own myreduce() function which works exactly\n",
    "like Python's built-in function reduce()."
   ]
  },
  {
   "cell_type": "code",
   "execution_count": 1,
   "id": "38c28a9b",
   "metadata": {},
   "outputs": [
    {
     "name": "stdout",
     "output_type": "stream",
     "text": [
      "6\n"
     ]
    }
   ],
   "source": [
    "ls=[1,1,2,3]\n",
    "# myreduce() multiplies all the integers from the list.\n",
    "def myreduce():\n",
    "    j=0\n",
    "    y=1\n",
    "    while j<len(ls):\n",
    "        x=ls[j]\n",
    "        y*=x\n",
    "        s=y\n",
    "        j+=1\n",
    "    print(s)\n",
    "myreduce()"
   ]
  },
  {
   "cell_type": "markdown",
   "id": "a44e778c",
   "metadata": {},
   "source": [
    "Q1.2. Write a Python program to implement your own myfilter() function which works exactly\n",
    "like Python's built-in function filter()"
   ]
  },
  {
   "cell_type": "code",
   "execution_count": 3,
   "id": "d523777a",
   "metadata": {},
   "outputs": [
    {
     "name": "stdout",
     "output_type": "stream",
     "text": [
      "[2, 4, 6, 34]\n"
     ]
    }
   ],
   "source": [
    "ls=[2,3,4,5,6,34,77,89]\n",
    "ls1=[]\n",
    "def myfilter():\n",
    "    for i in ls:\n",
    "        if i%2==0:\n",
    "            ls1.append(i)\n",
    "        else:\n",
    "            pass\n",
    "        \n",
    "myfilter()\n",
    "print(ls1)"
   ]
  },
  {
   "cell_type": "markdown",
   "id": "0e6cfb21",
   "metadata": {},
   "source": [
    "2. Implement List comprehensions to produce the following lists.\n",
    "    Write List comprehensions to produce the following Lists\n",
    "\n",
    "list comprehension 1\n",
    "\n",
    "['x', 'xx', 'xxx', 'xxxx', 'y', 'yy', 'yyy', 'yyyy', 'z', 'zz', 'zzz', 'zzzz']"
   ]
  },
  {
   "cell_type": "code",
   "execution_count": 6,
   "id": "2f02cb49",
   "metadata": {},
   "outputs": [
    {
     "name": "stdout",
     "output_type": "stream",
     "text": [
      "['x', 'xx', 'xxx', 'xxxx', 'y', 'yy', 'yyy', 'yyyy', 'z', 'zz', 'zzz', 'zzzz']\n"
     ]
    }
   ],
   "source": [
    "ls = list('xyz')\n",
    "pattern = []\n",
    "for i in range(len(ls)):    \n",
    "       for j in range(1,5):     \n",
    "            pattern.append(ls[i]*j)\n",
    "\n",
    "print(pattern)        "
   ]
  },
  {
   "cell_type": "markdown",
   "id": "529e5ed6",
   "metadata": {},
   "source": [
    "\n",
    "\n",
    "\n",
    "\n",
    "list comprehension 2\n",
    "\n",
    "\n",
    "['x', 'y', 'z', 'xx', 'yy', 'zz', 'xxx', 'yyy', 'zzz', 'xxxx', 'yyyy', 'zzzz']"
   ]
  },
  {
   "cell_type": "code",
   "execution_count": 7,
   "id": "c2c9435f",
   "metadata": {},
   "outputs": [
    {
     "name": "stdout",
     "output_type": "stream",
     "text": [
      "['x', 'y', 'z', 'xx', 'yy', 'zz', 'xxx', 'yyy', 'zzz', 'xxxx', 'yyyy', 'zzzz']\n"
     ]
    }
   ],
   "source": [
    "ls=list('xyz')\n",
    "pattern=[]\n",
    "for i in range(1,5):\n",
    "    for j in range(len(ls)):\n",
    "        pattern.append(ls[j]*i)\n",
    "print(pattern)"
   ]
  },
  {
   "cell_type": "markdown",
   "id": "c0be14b1",
   "metadata": {},
   "source": [
    "list comprehension 3\n",
    "\n",
    "[[2], [3], [4], [3], [4], [5], [4], [5], [6]] [[2, 3, 4, 5], [3, 4, 5, 6], [4, 5, 6, 7], [5, 6, 7, 8]]\n"
   ]
  },
  {
   "cell_type": "code",
   "execution_count": 8,
   "id": "e30ad390",
   "metadata": {},
   "outputs": [
    {
     "name": "stdout",
     "output_type": "stream",
     "text": [
      "[[2], [3], [4], [3], [4], [5], [4], [5], [6]]\n"
     ]
    },
    {
     "data": {
      "text/plain": [
       "[[2, 3, 4, 5], [3, 4, 5, 6], [4, 5, 6, 7], [5, 6, 7, 8]]"
      ]
     },
     "execution_count": 8,
     "metadata": {},
     "output_type": "execute_result"
    }
   ],
   "source": [
    "list = [[x+y] for x in range(2,5) for y in range(3) ]\n",
    "print(list)\n",
    "\n",
    "ls=[[x+y,x+y+1,x+y+2,x+y+3] for x in range(1,5) for y in range(1,2)]\n",
    "ls"
   ]
  },
  {
   "cell_type": "markdown",
   "id": "44468e8a",
   "metadata": {},
   "source": [
    "list comprehension 4\n",
    "\n",
    "[(1, 1), (2, 1), (3, 1), (1, 2), (2, 2), (3, 2), (1, 3), (2, 3), (3, 3)]\n"
   ]
  },
  {
   "cell_type": "code",
   "execution_count": 9,
   "id": "09c3c5de",
   "metadata": {},
   "outputs": [
    {
     "data": {
      "text/plain": [
       "[(1, 1), (2, 1), (3, 1), (1, 2), (2, 2), (3, 2), (1, 3), (2, 3), (3, 3)]"
      ]
     },
     "execution_count": 9,
     "metadata": {},
     "output_type": "execute_result"
    }
   ],
   "source": [
    "ls=[(y,x) for x in range(1,4) for y in range(1,4)]\n",
    "ls\n",
    "    "
   ]
  },
  {
   "cell_type": "code",
   "execution_count": null,
   "id": "2611fdb0",
   "metadata": {},
   "outputs": [],
   "source": []
  }
 ],
 "metadata": {
  "kernelspec": {
   "display_name": "Python 3",
   "language": "python",
   "name": "python3"
  },
  "language_info": {
   "codemirror_mode": {
    "name": "ipython",
    "version": 3
   },
   "file_extension": ".py",
   "mimetype": "text/x-python",
   "name": "python",
   "nbconvert_exporter": "python",
   "pygments_lexer": "ipython3",
   "version": "3.9.5"
  }
 },
 "nbformat": 4,
 "nbformat_minor": 5
}
